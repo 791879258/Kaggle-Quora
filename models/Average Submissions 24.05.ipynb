{
 "cells": [
  {
   "cell_type": "code",
   "execution_count": 1,
   "metadata": {
    "collapsed": true
   },
   "outputs": [],
   "source": [
    "import pandas as pd\n",
    "import numpy as np"
   ]
  },
  {
   "cell_type": "code",
   "execution_count": 2,
   "metadata": {
    "collapsed": true
   },
   "outputs": [],
   "source": [
    "def read_sub(name):\n",
    "    return pd.read_csv(sub_src + '{}.csv'.format(name))\n",
    "\n",
    "def average_sub(name1, name2):\n",
    "    s1 = read_sub(name1)\n",
    "    s2 = read_sub(name2)\n",
    "    sa = s1.copy()\n",
    "    sa['is_duplicate'] = s1.is_duplicate * 0.3 + s2.is_duplicate * 0.7\n",
    "    sa.to_csv(sub_src + '{}_plus_{}.csv'.format(name1, name2), index = False)\n",
    "    return\n",
    "\n",
    "sub_src = '/media/w/1c392724-ecf3-4615-8f3c-79368ec36380/DS Projects/Kaggle/Quora/submissions/'\n",
    "    \n",
    "name1 = 'XGB_500cols_furtherExperiments_0.20459'\n",
    "name2 = 'LGBM_500bestexperiments_loss0.20365'\n",
    "average_sub(name1, name2)"
   ]
  },
  {
   "cell_type": "code",
   "execution_count": null,
   "metadata": {
    "collapsed": true
   },
   "outputs": [],
   "source": []
  }
 ],
 "metadata": {
  "kernelspec": {
   "display_name": "Python 3",
   "language": "python",
   "name": "python3"
  },
  "language_info": {
   "codemirror_mode": {
    "name": "ipython",
    "version": 3
   },
   "file_extension": ".py",
   "mimetype": "text/x-python",
   "name": "python",
   "nbconvert_exporter": "python",
   "pygments_lexer": "ipython3",
   "version": "3.5.2"
  }
 },
 "nbformat": 4,
 "nbformat_minor": 2
}
