{
 "cells": [
  {
   "cell_type": "code",
   "execution_count": 18,
   "metadata": {
    "collapsed": true
   },
   "outputs": [],
   "source": [
    "import os\n",
    "import time\n",
    "\n",
    "import pandas as pd\n",
    "import numpy as np\n",
    "import xgboost as xgb\n",
    "from sklearn.metrics import log_loss"
   ]
  },
  {
   "cell_type": "code",
   "execution_count": 19,
   "metadata": {
    "collapsed": true
   },
   "outputs": [],
   "source": [
    "def load_train_pred():\n",
    "    preds_list = [x for x in os.listdir(src) if 'train' in x]\n",
    "    preds = []\n",
    "    for i in preds_list:\n",
    "        preds.append(np.load(src + i))\n",
    "    return np.array(preds).T\n",
    "\n",
    "def load_val_pred():\n",
    "    preds_list = [x for x in os.listdir(src) if 'val' in x]\n",
    "    preds = []\n",
    "    for i in preds_list:\n",
    "        preds.append(np.load(src + i))\n",
    "    return np.array(preds).T\n",
    "\n",
    "def load_test_pred():\n",
    "    preds_list = [x for x in os.listdir(src) if 'test' in x]\n",
    "    preds = []\n",
    "    for i in preds_list:\n",
    "        preds.append(np.load(src + i))\n",
    "    return np.array(preds).T"
   ]
  },
  {
   "cell_type": "code",
   "execution_count": 20,
   "metadata": {},
   "outputs": [],
   "source": [
    "src = 'model_predictions/'\n",
    "feats_src = '/media/w/1c392724-ecf3-4615-8f3c-79368ec36380/DS Projects/Kaggle/Quora/data/features/uncleaned/'\n",
    "\n",
    "X_tr = load_train_pred()\n",
    "X_val = load_val_pred()\n",
    "\n",
    "y_tr = np.load('y_tr.npy')\n",
    "y_val = np.load('y_val.npy')"
   ]
  },
  {
   "cell_type": "code",
   "execution_count": 21,
   "metadata": {},
   "outputs": [
    {
     "name": "stdout",
     "output_type": "stream",
     "text": [
      "Start training...\n",
      "[0]\ttrain-logloss:0.689324\tvalid-logloss:0.689947\n",
      "Multiple eval metrics have been passed: 'valid-logloss' will be used for early stopping.\n",
      "\n",
      "Will train until valid-logloss hasn't improved in 100 rounds.\n",
      "[100]\ttrain-logloss:0.310504\tvalid-logloss:0.375833\n",
      "[200]\ttrain-logloss:0.181208\tvalid-logloss:0.288919\n",
      "[300]\ttrain-logloss:0.118577\tvalid-logloss:0.261873\n",
      "[400]\ttrain-logloss:0.092022\tvalid-logloss:0.258012\n",
      "Stopping. Best iteration:\n",
      "[393]\ttrain-logloss:0.093565\tvalid-logloss:0.257841\n",
      "\n",
      "Start predicting...\n",
      "Final score: 0.257840969482 \n",
      " Time it took to train and predict: 9.972392559051514\n"
     ]
    }
   ],
   "source": [
    "params = {\n",
    "    'seed': 1337,\n",
    "    'colsample_bytree': 0.48,\n",
    "    'silent': 1,\n",
    "    'subsample': 0.74,\n",
    "    'eta': 0.01,\n",
    "    'objective': 'binary:logistic',\n",
    "    'eval_metric': 'logloss',\n",
    "    'max_depth': 4,\n",
    "    'min_child_weight': 20,\n",
    "    'nthread': 8,\n",
    "    'tree_method': 'hist',\n",
    "    }\n",
    "\n",
    "t = time.time()\n",
    "dtrain = xgb.DMatrix(X_tr, label = y_tr)\n",
    "dval = xgb.DMatrix(X_val, label = y_val)\n",
    "watchlist = [(dtrain, 'train'), (dval, 'valid')]\n",
    "\n",
    "print('Start training...')\n",
    "gbm = xgb.train(params, dtrain, 100000, watchlist, \n",
    "                early_stopping_rounds = 100, verbose_eval = 100)\n",
    "\n",
    "print('Start predicting...')\n",
    "#train_pred = gbm.predict(xgb.DMatrix(X_tr), ntree_limit=gbm.best_ntree_limit)\n",
    "val_pred = gbm.predict(xgb.DMatrix(X_val), ntree_limit=gbm.best_ntree_limit)\n",
    "score = log_loss(y_val, val_pred)\n",
    "print('Final score:', score, '\\n', 'Time it took to train and predict:', time.time() - t)\n",
    "#gbm.save_model('saved_models/XGB/XGB_500cols_furtherExperiments.txt')"
   ]
  },
  {
   "cell_type": "code",
   "execution_count": null,
   "metadata": {
    "collapsed": true
   },
   "outputs": [],
   "source": []
  }
 ],
 "metadata": {
  "kernelspec": {
   "display_name": "Python 3",
   "language": "python",
   "name": "python3"
  },
  "language_info": {
   "codemirror_mode": {
    "name": "ipython",
    "version": 3
   },
   "file_extension": ".py",
   "mimetype": "text/x-python",
   "name": "python",
   "nbconvert_exporter": "python",
   "pygments_lexer": "ipython3",
   "version": "3.5.2"
  }
 },
 "nbformat": 4,
 "nbformat_minor": 2
}
