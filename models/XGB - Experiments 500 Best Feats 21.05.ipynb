{
 "cells": [
  {
   "cell_type": "code",
   "execution_count": null,
   "metadata": {
    "collapsed": true,
    "scrolled": false
   },
   "outputs": [],
   "source": [
    "import pandas as pd\n",
    "import numpy as np\n",
    "import nltk\n",
    "import multiprocessing\n",
    "import difflib\n",
    "import time\n",
    "import gc\n",
    "import xgboost as xgb\n",
    "import matplotlib.pyplot as plt\n",
    "%matplotlib inline\n",
    "import seaborn as sns\n",
    "sns.set_style(\"dark\")\n",
    "import category_encoders as ce\n",
    "import warnings\n",
    "warnings.filterwarnings('ignore')\n",
    "\n",
    "from collections import Counter\n",
    "from sklearn.metrics import log_loss\n",
    "from scipy.optimize import minimize\n",
    "from textstat.textstat import textstat\n",
    "from sklearn.cross_validation import train_test_split\n",
    "from sklearn.feature_extraction.text import TfidfVectorizer, CountVectorizer\n",
    "from scipy.spatial.distance import cosine, correlation, canberra, chebyshev, minkowski, jaccard, euclidean\n",
    "\n",
    "from models_utils_xgb import *"
   ]
  },
  {
   "cell_type": "code",
   "execution_count": null,
   "metadata": {
    "collapsed": true
   },
   "outputs": [],
   "source": [
    "def get_train():\n",
    "    feats_src = '/media/w/1c392724-ecf3-4615-8f3c-79368ec36380/DS Projects/Kaggle/Quora/data/features/uncleaned/'\n",
    "    keras_q1 = np.load(feats_src + 'train_q1_transformed.npy')\n",
    "    keras_q2 = np.load(feats_src + 'train_q2_transformed.npy')\n",
    "    \n",
    "    feats_src2 = '/media/w/1c392724-ecf3-4615-8f3c-79368ec36380/DS Projects/Kaggle/Quora/data/features/NER/'\n",
    "    keras_q1 = np.load(feats_src2 + 'q1train_NER_128len.npy')\n",
    "    keras_q2 = np.load(feats_src2 + 'q2train_NER_128len.npy')\n",
    "    \n",
    "    xgb_feats = pd.read_csv(feats_src + '/the_1owl/owl_train.csv')\n",
    "    abhishek_feats = pd.read_csv(feats_src + 'abhishek/train_features.csv',\n",
    "                              encoding = 'ISO-8859-1').iloc[:, 2:]\n",
    "    text_feats = pd.read_csv(feats_src + 'other_features/text_features_train.csv',\n",
    "                            encoding = 'ISO-8859-1')\n",
    "    img_feats = pd.read_csv(feats_src + 'other_features/img_features_train.csv')\n",
    "    srk_feats = pd.read_csv(feats_src + 'srk/SRK_grams_features_train.csv')\n",
    "    \n",
    "    mephisto_feats = pd.read_csv('../../data/features/lemmatized_fullclean/train_mephistopeheles_features.csv').iloc[:, 6:]\n",
    "    turkewitz_feats = pd.read_csv('../../data/features/lemmatized_fullclean/train_turkewitz_features_fullcleanSTEMMED.csv')\n",
    "    #turkewitz_feats = pd.read_csv(feats_src + 'other_features/train_turkewitz_feats_orig.csv')\n",
    "    turkewitz_feats = turkewitz_feats[['q1_freq', 'q2_freq']]\n",
    "    turkewitz_feats['freq_sum'] = turkewitz_feats.q1_freq + turkewitz_feats.q2_freq\n",
    "    turkewitz_feats['freq_diff'] = turkewitz_feats.q1_freq - turkewitz_feats.q2_freq\n",
    "    turkewitz_feats['freq_mult'] = turkewitz_feats.q1_freq * turkewitz_feats.q2_freq\n",
    "    turkewitz_feats['freq_div'] = turkewitz_feats.q1_freq / turkewitz_feats.q2_freq\n",
    "    \n",
    "    xgb_feats.drop(['z_len1', 'z_len2', 'z_word_len1', 'z_word_len2'], axis = 1, inplace = True)\n",
    "    y_train = xgb_feats['is_duplicate']\n",
    "    xgb_feats = xgb_feats.iloc[:, 8:]\n",
    "    \n",
    "    df = pd.concat([xgb_feats, abhishek_feats, text_feats, img_feats, \n",
    "                               turkewitz_feats, mephisto_feats], axis = 1)\n",
    "    del xgb_feats, abhishek_feats, text_feats, img_feats, turkewitz_feats, mephisto_feats\n",
    "    gc.collect()\n",
    "    \n",
    "    df = drop_duplicate_cols(df)\n",
    "    keras_q1 = pd.DataFrame(keras_q1)\n",
    "    keras_q2 = pd.DataFrame(keras_q2)\n",
    "    keras_q1.columns = ['question1_{}'.format(i) for i in range(keras_q1.shape[1])]\n",
    "    keras_q2.columns = ['question2_{}'.format(i) for i in range(keras_q2.shape[1])]\n",
    "    X = pd.concat([keras_q1, keras_q2, df], axis = 1)\n",
    "    \n",
    "    colnames_list = X.columns.tolist()\n",
    "    colnames_list[300] = 'len_char_q1_other'\n",
    "    colnames_list[301] = 'len_char_q2_other'\n",
    "    X.columns = colnames_list\n",
    "    X = X.astype('float32')\n",
    "    print('Training data shape:', X.shape)\n",
    "    return X, y_train\n",
    "\n",
    "def labelcount_encode(df2, cols):\n",
    "    df = df2.copy()\n",
    "    categorical_features = cols\n",
    "    new_df = pd.DataFrame()\n",
    "    for cat_feature in categorical_features:\n",
    "        cat_feature_value_counts = df[cat_feature].value_counts()\n",
    "        value_counts_list = cat_feature_value_counts.index.tolist()\n",
    "        value_counts_range_rev = list(reversed(range(len(cat_feature_value_counts)))) # for ascending ordering\n",
    "        value_counts_range = list(range(len(cat_feature_value_counts))) # for descending ordering\n",
    "        labelcount_dict = dict(zip(value_counts_list, value_counts_range))\n",
    "        new_df[cat_feature] = df[cat_feature].map(labelcount_dict)\n",
    "    return new_df\n",
    "\n",
    "def count_encode(df2, cols):\n",
    "    df = df2.copy()\n",
    "    categorical_features = cols\n",
    "    new_df = pd.DataFrame()\n",
    "    for i in categorical_features:\n",
    "        new_df[i] = df[i].astype('object').replace(df[i].value_counts())\n",
    "    return new_df\n",
    "\n",
    "def bin_numerical(df2, cols, step):\n",
    "    df = df2.copy()\n",
    "    numerical_features = cols\n",
    "    new_df = pd.DataFrame()\n",
    "    for i in numerical_features:\n",
    "        feature_range = np.arange(0, np.max(df[i]), step)\n",
    "        new_df[i] = np.digitize(df[i], feature_range, right=True)\n",
    "    return new_df\n",
    "\n",
    "def drop_duplicate_cols(df):\n",
    "    dfc = df.iloc[0:10000,:]\n",
    "    dfc = dfc.T.drop_duplicates().T\n",
    "    duplicate_cols = sorted(list(set(df.columns).difference(set(dfc.columns))))\n",
    "    print('Dropping duplicate columns:', duplicate_cols)\n",
    "    df.drop(duplicate_cols, axis = 1, inplace = True)\n",
    "    print('Final shape:', df.shape)\n",
    "    del dfc\n",
    "    gc.collect()\n",
    "    return df"
   ]
  },
  {
   "cell_type": "code",
   "execution_count": null,
   "metadata": {
    "collapsed": true
   },
   "outputs": [],
   "source": [
    "feats_src = '/media/w/1c392724-ecf3-4615-8f3c-79368ec36380/DS Projects/Kaggle/Quora/data/features/uncleaned/'\n",
    "xgb_feats = pd.read_csv(feats_src + '/the_1owl/owl_train.csv')\n",
    "\n",
    "X_train = pd.read_pickle('Xtrain_500bestCols.pkl')\n",
    "y_train = xgb_feats['is_duplicate']\n"
   ]
  },
  {
   "cell_type": "markdown",
   "metadata": {},
   "source": [
    "* Final score: 0.212184284436 for Xtrain_500bestCols.pkl"
   ]
  },
  {
   "cell_type": "code",
   "execution_count": null,
   "metadata": {
    "collapsed": true,
    "scrolled": false
   },
   "outputs": [],
   "source": [
    "params = {\n",
    "    'seed': 1337,\n",
    "    'colsample_bytree': 0.48,\n",
    "    'silent': 1,\n",
    "    'subsample': 0.74,\n",
    "    'eta': 0.05,\n",
    "    'objective': 'binary:logistic',\n",
    "    'eval_metric': 'logloss',\n",
    "    'max_depth': 12,\n",
    "    'min_child_weight': 20,\n",
    "    'nthread': 8,\n",
    "    'tree_method': 'hist',\n",
    "    }\n",
    "\n",
    "t = time.time()\n",
    "X_tr, X_val, y_tr, y_val = train_test_split(X_train, y_train, stratify = y_train,\n",
    "                                            test_size = 0.2, random_state = 111)\n",
    "dtrain = xgb.DMatrix(X_tr, label = y_tr)\n",
    "dval = xgb.DMatrix(X_val, label = y_val)\n",
    "watchlist = [(dtrain, 'train'), (dval, 'valid')]\n",
    "\n",
    "print('Start training...')\n",
    "gbm = xgb.train(params, dtrain, 100000, watchlist, \n",
    "                early_stopping_rounds = 100, verbose_eval = 100)\n",
    "\n",
    "print('Start predicting...')\n",
    "val_pred = gbm.predict(xgb.DMatrix(X_val), ntree_limit=gbm.best_ntree_limit)\n",
    "score = log_loss(y_val, val_pred)\n",
    "print('Final score:', score, '\\n', 'Time it took to train and predict:', time.time() - t)\n",
    "gbm.save_model('saved_models/XGB/XGB_new_NetworkFeats_experiments.txt')"
   ]
  },
  {
   "cell_type": "code",
   "execution_count": null,
   "metadata": {
    "collapsed": true,
    "scrolled": true
   },
   "outputs": [],
   "source": [
    "gbm = xgb.Booster(model_file = 'saved_models/XGB/XGB_new_NetworkFeats_experiments.txt')\n",
    "\n",
    "mapper = {'f{0}'.format(i): v for i, v in enumerate(dtrain.feature_names)}\n",
    "importance = {mapper[k]: v for k, v in gbm.get_fscore().items()}\n",
    "importance = sorted(importance.items(), key=lambda x:x[1], reverse=True)[:500]\n",
    "\n",
    "df_importance = pd.DataFrame(importance, columns=['feature', 'fscore'])\n",
    "df_importance['fscore'] = df_importance['fscore'] / df_importance['fscore'].sum()\n",
    "\n",
    "plt.figure()\n",
    "df_importance.plot()\n",
    "df_importance.plot(kind='barh', x='feature', y='fscore', legend=False, figsize=(10, 18))\n",
    "plt.title('XGBoost Feature Importance')\n",
    "plt.xlabel('relative importance')\n",
    "\n"
   ]
  },
  {
   "cell_type": "code",
   "execution_count": null,
   "metadata": {
    "collapsed": true
   },
   "outputs": [],
   "source": [
    "retain_cols = df_importance['feature']\n",
    "X_train2 = X_train.loc[:, retain_cols]\n",
    "retain_cols.to_pickle('Colnames_best500features.pkl')"
   ]
  }
 ],
 "metadata": {
  "kernelspec": {
   "display_name": "Python 3",
   "language": "python",
   "name": "python3"
  },
  "language_info": {
   "codemirror_mode": {
    "name": "ipython",
    "version": 3
   },
   "file_extension": ".py",
   "mimetype": "text/x-python",
   "name": "python",
   "nbconvert_exporter": "python",
   "pygments_lexer": "ipython3",
   "version": "3.5.2"
  }
 },
 "nbformat": 4,
 "nbformat_minor": 2
}
