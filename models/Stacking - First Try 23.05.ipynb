{
 "cells": [
  {
   "cell_type": "code",
   "execution_count": null,
   "metadata": {
    "collapsed": true
   },
   "outputs": [],
   "source": [
    "import os\n",
    "import time\n",
    "import pandas as pd\n",
    "import numpy as np\n",
    "import xgboost as xgb\n",
    "from sklearn.metrics import log_loss\n",
    "\n",
    "from models_utils_skf import *"
   ]
  },
  {
   "cell_type": "code",
   "execution_count": null,
   "metadata": {
    "collapsed": true
   },
   "outputs": [],
   "source": [
    "def load_oof(mode = 'train'):\n",
    "    src = '/media/w/1c392724-ecf3-4615-8f3c-79368ec36380/DS Projects/Kaggle/Quora/scripts/models/OOF_preds/'\n",
    "    oof_preds = pd.DataFrame()\n",
    "    files = sorted(os.listdir(src + '{}/'.format(mode)))\n",
    "    print('Loading OOF preds:', files)\n",
    "    for i in files:\n",
    "        df_preds = pd.read_pickle('{}/{}/{}'.format(src, mode, i))\n",
    "        oof_preds = pd.concat([oof_preds, df_preds], axis = 1)\n",
    "    oof_preds.columns = ['{}_OOFpreds'.format(i) for i in range(oof_preds.shape[1])]\n",
    "    return oof_preds\n",
    "\n",
    "def transform(x):\n",
    "    a = 0.165 / 0.37\n",
    "    b =  (1 - 0.165) / (1 - 0.37)\n",
    "    xt = a * x / (a * x + b * (1 - x))\n",
    "    return xt\n",
    "\n",
    "def predict_test_lgbm(test_preds, model_name):\n",
    "    print('Predicting on test set with LightGBM.')\n",
    "    sub_src = '/media/w/1c392724-ecf3-4615-8f3c-79368ec36380/DS Projects/Kaggle/Quora/submissions/'\n",
    "    sample_sub = pd.read_csv(sub_src + 'sample_submission.csv')\n",
    "    sample_sub['is_duplicate'] = test_preds\n",
    "    sample_sub.is_duplicate = sample_sub.is_duplicate.apply(transform)\n",
    "    sample_sub.to_csv(sub_src + '{}.csv'.format(model_name), index = False)\n",
    "    return\n",
    "\n",
    "lgb_params = {\n",
    "    'task' : 'train',\n",
    "    'boosting_type' : 'gbdt',\n",
    "    'objective' : 'binary',\n",
    "    'metric' : {'binary_logloss'},\n",
    "    'learning_rate' : 0.03,\n",
    "    'feature_fraction' : 0.51,\n",
    "    'bagging_fraction': 0.9,\n",
    "    'bagging_freq': 100,\n",
    "    'num_leaves' : 255,\n",
    "    'max_depth': 4,\n",
    "    'min_data_in_leaf': 23,\n",
    "    'subsample': 0.8,\n",
    "    'colsample_bytree': 0.41,\n",
    "    'silent': 1,\n",
    "    'random_state': 1337,\n",
    "    'verbose': 1,\n",
    "    'nthread': 4,\n",
    "}\n",
    "\n",
    "xgb_params = {\n",
    "    'seed': 1337,\n",
    "    'colsample_bytree': 0.42,\n",
    "    'silent': 1,\n",
    "    'subsample': 0.85,\n",
    "    'eta': 0.02,\n",
    "    'objective': 'binary:logistic',\n",
    "    'eval_metric': 'logloss',\n",
    "    'max_depth': 4,\n",
    "    'min_child_weight': 20,\n",
    "    'nthread': 4,\n",
    "    }"
   ]
  },
  {
   "cell_type": "code",
   "execution_count": null,
   "metadata": {
    "collapsed": true
   },
   "outputs": [],
   "source": [
    "X_train = load_oof()\n",
    "X_test = load_oof(mode = 'test')\n",
    "y_train = pd.read_pickle('y_train.pkl')\n",
    "\n",
    "X_train = X_train.iloc[:, 2:]\n",
    "X_test = X_test.iloc[:, 2:]"
   ]
  },
  {
   "cell_type": "code",
   "execution_count": null,
   "metadata": {
    "collapsed": true,
    "scrolled": true
   },
   "outputs": [],
   "source": [
    "oof_test = lgb_foldrun_test(X_train, y_train, X_test, lgb_params, 'Stacking1Exp')"
   ]
  },
  {
   "cell_type": "code",
   "execution_count": null,
   "metadata": {
    "collapsed": true
   },
   "outputs": [],
   "source": [
    "oof_test"
   ]
  },
  {
   "cell_type": "code",
   "execution_count": null,
   "metadata": {
    "collapsed": true
   },
   "outputs": [],
   "source": [
    "predict_test_lgbm(oof_test, 'Stacking1Exp')"
   ]
  }
 ],
 "metadata": {
  "kernelspec": {
   "display_name": "Python 3",
   "language": "python",
   "name": "python3"
  },
  "language_info": {
   "codemirror_mode": {
    "name": "ipython",
    "version": 3
   },
   "file_extension": ".py",
   "mimetype": "text/x-python",
   "name": "python",
   "nbconvert_exporter": "python",
   "pygments_lexer": "ipython3",
   "version": "3.5.2"
  }
 },
 "nbformat": 4,
 "nbformat_minor": 2
}
