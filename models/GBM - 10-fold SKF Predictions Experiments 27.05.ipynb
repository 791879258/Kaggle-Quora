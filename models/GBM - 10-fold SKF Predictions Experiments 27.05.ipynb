{
 "cells": [
  {
   "cell_type": "code",
   "execution_count": 1,
   "metadata": {
    "collapsed": true,
    "scrolled": false
   },
   "outputs": [],
   "source": [
    "import nltk\n",
    "import difflib\n",
    "import time\n",
    "import gc\n",
    "import itertools\n",
    "import multiprocessing\n",
    "import pandas as pd\n",
    "import numpy as np\n",
    "import xgboost as xgb\n",
    "import lightgbm as lgb\n",
    "\n",
    "import warnings\n",
    "warnings.filterwarnings('ignore')\n",
    "import matplotlib.pyplot as plt\n",
    "%matplotlib inline\n",
    "import seaborn as sns\n",
    "\n",
    "from sklearn.metrics import log_loss\n",
    "from sklearn.model_selection import train_test_split, StratifiedKFold\n",
    "\n",
    "from models_utils_fe import *\n",
    "from models_utils_skf import *"
   ]
  },
  {
   "cell_type": "code",
   "execution_count": 2,
   "metadata": {
    "collapsed": true
   },
   "outputs": [],
   "source": [
    "src = '/media/w/1c392724-ecf3-4615-8f3c-79368ec36380/DS Projects/Kaggle/Quora/scripts/features/'\n",
    "feats_src = '/media/w/1c392724-ecf3-4615-8f3c-79368ec36380/DS Projects/Kaggle/Quora/data/features/uncleaned/'\n",
    "att_src = '/media/w/1c392724-ecf3-4615-8f3c-79368ec36380/DS Projects/Kaggle/Quora/scripts/models/v_spacy-models/decomposable_attention/checks/'\n",
    "\n",
    "X_train = pd.read_pickle('Xtrain_825colsCurrentBest.pkl')\n",
    "xgb_feats = pd.read_csv(feats_src + '/the_1owl/owl_train.csv')\n",
    "y_train = xgb_feats[['is_duplicate']]\n",
    "\n",
    "#del xgb_feats\n",
    "#gc.collect()\n",
    "\n",
    "best_ner = pd.read_pickle('Xtrain_NER_15bestFeats.pkl')\n",
    "best_lemmat = pd.read_pickle('Xtrain_lemmatClean_15bestFeats.pkl')\n",
    "\n",
    "X_train = pd.concat([X_train, best_ner, best_lemmat], axis = 1)\n",
    "X_train = X_train.astype('float32')"
   ]
  },
  {
   "cell_type": "code",
   "execution_count": 3,
   "metadata": {
    "collapsed": true
   },
   "outputs": [],
   "source": [
    "lgb_params = {\n",
    "    'task' : 'train',\n",
    "    'boosting_type' : 'gbdt',\n",
    "    'objective' : 'binary',\n",
    "    'metric' : {'binary_logloss'},\n",
    "    'learning_rate' : 0.03,\n",
    "    'feature_fraction' : 0.51,\n",
    "    'bagging_fraction': 0.9,\n",
    "    'bagging_freq': 100,\n",
    "    'num_leaves' : 255,\n",
    "    'max_depth': 8,\n",
    "    'min_data_in_leaf': 23,\n",
    "    'subsample': 0.8,\n",
    "    'colsample_bytree': 0.41,\n",
    "    'silent': 1,\n",
    "    'random_state': 1337,\n",
    "    'verbose': 1,\n",
    "    'nthread': 9,\n",
    "}\n",
    "\n",
    "xgb_params = {\n",
    "    'seed': 1337,\n",
    "    'colsample_bytree': 0.42,\n",
    "    'silent': 1,\n",
    "    'subsample': 0.85,\n",
    "    'eta': 0.02,\n",
    "    'objective': 'binary:logistic',\n",
    "    'eval_metric': 'logloss',\n",
    "    'max_depth': 8,\n",
    "    'min_child_weight': 20,\n",
    "    'nthread': 4,\n",
    "    'tree_method': 'hist',\n",
    "    }"
   ]
  },
  {
   "cell_type": "markdown",
   "metadata": {},
   "source": [
    "* X_train = pd.concat([X_train, best_ner, best_lemmat], axis = 1)\n",
    "```python\n",
    "[100]\tvalid_0's binary_logloss: 0.212996\n",
    "[200]\tvalid_0's binary_logloss: 0.190133\n",
    "[300]\tvalid_0's binary_logloss: 0.186119\n",
    "[400]\tvalid_0's binary_logloss: 0.18423\n",
    "[500]\tvalid_0's binary_logloss: 0.183256\n",
    "[600]\tvalid_0's binary_logloss: 0.18258\n",
    "[700]\tvalid_0's binary_logloss: 0.182047\n",
    "[800]\tvalid_0's binary_logloss: 0.181516\n",
    "[900]\tvalid_0's binary_logloss: 0.181176\n",
    "[1000]\tvalid_0's binary_logloss: 0.181028\n",
    "[1100]\tvalid_0's binary_logloss: 0.180709\n",
    "[1200]\tvalid_0's binary_logloss: 0.180682\n",
    "[1300]\tvalid_0's binary_logloss: 0.180531\n",
    "[1400]\tvalid_0's binary_logloss: 0.180594\n",
    "[1500]\tvalid_0's binary_logloss: 0.180671\n",
    "[1600]\tvalid_0's binary_logloss: 0.180772\n",
    "Early stopping, best iteration is:\n",
    "[1430]\tvalid_0's binary_logloss: 0.180485\n",
    "Start predicting...\n",
    "Final score for fold 1 : 0.180486617074 \n",
    "```"
   ]
  },
  {
   "cell_type": "code",
   "execution_count": 4,
   "metadata": {
    "scrolled": false
   },
   "outputs": [
    {
     "name": "stdout",
     "output_type": "stream",
     "text": [
      "Running LGBM model with parameters: {'random_state': 1337, 'min_data_in_leaf': 23, 'metric': {'binary_logloss'}, 'task': 'train', 'verbose': 1, 'colsample_bytree': 0.41, 'learning_rate': 0.03, 'bagging_freq': 100, 'silent': 1, 'subsample': 0.8, 'nthread': 9, 'boosting_type': 'gbdt', 'bagging_fraction': 0.9, 'max_depth': 8, 'num_leaves': 255, 'objective': 'binary', 'feature_fraction': 0.51}\n",
      "Start training on fold: 1\n",
      "Train until valid scores didn't improve in 200 rounds.\n",
      "[100]\tvalid_0's binary_logloss: 0.212996\n",
      "[200]\tvalid_0's binary_logloss: 0.190133\n",
      "[300]\tvalid_0's binary_logloss: 0.186119\n",
      "[400]\tvalid_0's binary_logloss: 0.18423\n",
      "[500]\tvalid_0's binary_logloss: 0.183256\n",
      "[600]\tvalid_0's binary_logloss: 0.18258\n",
      "[700]\tvalid_0's binary_logloss: 0.182047\n",
      "[800]\tvalid_0's binary_logloss: 0.181516\n",
      "[900]\tvalid_0's binary_logloss: 0.181176\n",
      "[1000]\tvalid_0's binary_logloss: 0.181028\n",
      "[1100]\tvalid_0's binary_logloss: 0.180709\n",
      "[1200]\tvalid_0's binary_logloss: 0.180682\n",
      "[1300]\tvalid_0's binary_logloss: 0.180531\n",
      "[1400]\tvalid_0's binary_logloss: 0.180594\n",
      "[1500]\tvalid_0's binary_logloss: 0.180671\n",
      "[1600]\tvalid_0's binary_logloss: 0.180772\n",
      "Early stopping, best iteration is:\n",
      "[1430]\tvalid_0's binary_logloss: 0.180485\n",
      "Start predicting...\n",
      "Final score for fold 1 : 0.180486617074 \n",
      " Time it took to train and predict on fold: 427.9046993255615 \n",
      "\n",
      "Start training on fold: 2\n",
      "Train until valid scores didn't improve in 200 rounds.\n",
      "[100]\tvalid_0's binary_logloss: 0.220662\n",
      "[200]\tvalid_0's binary_logloss: 0.19789\n"
     ]
    },
    {
     "ename": "KeyboardInterrupt",
     "evalue": "",
     "output_type": "error",
     "traceback": [
      "\u001b[0;31m---------------------------------------------------------------------------\u001b[0m",
      "\u001b[0;31mKeyboardInterrupt\u001b[0m                         Traceback (most recent call last)",
      "\u001b[0;32m<ipython-input-4-d1f1b4bb3ca8>\u001b[0m in \u001b[0;36m<module>\u001b[0;34m()\u001b[0m\n\u001b[0;32m----> 1\u001b[0;31m \u001b[0mlgb_foldrun\u001b[0m\u001b[0;34m(\u001b[0m\u001b[0mX_train\u001b[0m\u001b[0;34m,\u001b[0m \u001b[0my_train\u001b[0m\u001b[0;34m,\u001b[0m \u001b[0mlgb_params\u001b[0m\u001b[0;34m,\u001b[0m \u001b[0;34m'BestGRU_experiments'\u001b[0m\u001b[0;34m)\u001b[0m\u001b[0;34m\u001b[0m\u001b[0m\n\u001b[0m",
      "\u001b[0;32m/media/w/1c392724-ecf3-4615-8f3c-79368ec36380/DS Projects/Kaggle/Quora/scripts/models/models_utils_skf.py\u001b[0m in \u001b[0;36mlgb_foldrun\u001b[0;34m(X, y, params, name)\u001b[0m\n\u001b[1;32m     35\u001b[0m         \u001b[0mprint\u001b[0m\u001b[0;34m(\u001b[0m\u001b[0;34m'Start training on fold: {}'\u001b[0m\u001b[0;34m.\u001b[0m\u001b[0mformat\u001b[0m\u001b[0;34m(\u001b[0m\u001b[0mi\u001b[0m\u001b[0;34m)\u001b[0m\u001b[0;34m)\u001b[0m\u001b[0;34m\u001b[0m\u001b[0m\n\u001b[1;32m     36\u001b[0m         gbm = lgb.train(params, lgb_train, num_boost_round = 100000, valid_sets = lgb_val,\n\u001b[0;32m---> 37\u001b[0;31m                         early_stopping_rounds = 200, verbose_eval = 100)\n\u001b[0m\u001b[1;32m     38\u001b[0m         \u001b[0mprint\u001b[0m\u001b[0;34m(\u001b[0m\u001b[0;34m'Start predicting...'\u001b[0m\u001b[0;34m)\u001b[0m\u001b[0;34m\u001b[0m\u001b[0m\n\u001b[1;32m     39\u001b[0m         \u001b[0mval_pred\u001b[0m \u001b[0;34m=\u001b[0m \u001b[0mgbm\u001b[0m\u001b[0;34m.\u001b[0m\u001b[0mpredict\u001b[0m\u001b[0;34m(\u001b[0m\u001b[0mX_val\u001b[0m\u001b[0;34m,\u001b[0m \u001b[0mnum_iteration\u001b[0m\u001b[0;34m=\u001b[0m\u001b[0mgbm\u001b[0m\u001b[0;34m.\u001b[0m\u001b[0mbest_iteration\u001b[0m\u001b[0;34m)\u001b[0m\u001b[0;34m\u001b[0m\u001b[0m\n",
      "\u001b[0;32m/home/w/anaconda3/envs/idp3/lib/python3.5/site-packages/lightgbm-0.1-py3.5.egg/lightgbm/engine.py\u001b[0m in \u001b[0;36mtrain\u001b[0;34m(params, train_set, num_boost_round, valid_sets, valid_names, fobj, feval, init_model, feature_name, categorical_feature, early_stopping_rounds, evals_result, verbose_eval, learning_rates, callbacks)\u001b[0m\n\u001b[1;32m    178\u001b[0m                                     evaluation_result_list=None))\n\u001b[1;32m    179\u001b[0m \u001b[0;34m\u001b[0m\u001b[0m\n\u001b[0;32m--> 180\u001b[0;31m         \u001b[0mbooster\u001b[0m\u001b[0;34m.\u001b[0m\u001b[0mupdate\u001b[0m\u001b[0;34m(\u001b[0m\u001b[0mfobj\u001b[0m\u001b[0;34m=\u001b[0m\u001b[0mfobj\u001b[0m\u001b[0;34m)\u001b[0m\u001b[0;34m\u001b[0m\u001b[0m\n\u001b[0m\u001b[1;32m    181\u001b[0m \u001b[0;34m\u001b[0m\u001b[0m\n\u001b[1;32m    182\u001b[0m         \u001b[0mevaluation_result_list\u001b[0m \u001b[0;34m=\u001b[0m \u001b[0;34m[\u001b[0m\u001b[0;34m]\u001b[0m\u001b[0;34m\u001b[0m\u001b[0m\n",
      "\u001b[0;32m/home/w/anaconda3/envs/idp3/lib/python3.5/site-packages/lightgbm-0.1-py3.5.egg/lightgbm/basic.py\u001b[0m in \u001b[0;36mupdate\u001b[0;34m(self, train_set, fobj)\u001b[0m\n\u001b[1;32m   1348\u001b[0m             _safe_call(_LIB.LGBM_BoosterUpdateOneIter(\n\u001b[1;32m   1349\u001b[0m                 \u001b[0mself\u001b[0m\u001b[0;34m.\u001b[0m\u001b[0mhandle\u001b[0m\u001b[0;34m,\u001b[0m\u001b[0;34m\u001b[0m\u001b[0m\n\u001b[0;32m-> 1350\u001b[0;31m                 ctypes.byref(is_finished)))\n\u001b[0m\u001b[1;32m   1351\u001b[0m             \u001b[0mself\u001b[0m\u001b[0;34m.\u001b[0m\u001b[0m__is_predicted_cur_iter\u001b[0m \u001b[0;34m=\u001b[0m \u001b[0;34m[\u001b[0m\u001b[0;32mFalse\u001b[0m \u001b[0;32mfor\u001b[0m \u001b[0m_\u001b[0m \u001b[0;32min\u001b[0m \u001b[0mrange_\u001b[0m\u001b[0;34m(\u001b[0m\u001b[0mself\u001b[0m\u001b[0;34m.\u001b[0m\u001b[0m__num_dataset\u001b[0m\u001b[0;34m)\u001b[0m\u001b[0;34m]\u001b[0m\u001b[0;34m\u001b[0m\u001b[0m\n\u001b[1;32m   1352\u001b[0m             \u001b[0;32mreturn\u001b[0m \u001b[0mis_finished\u001b[0m\u001b[0;34m.\u001b[0m\u001b[0mvalue\u001b[0m \u001b[0;34m==\u001b[0m \u001b[0;36m1\u001b[0m\u001b[0;34m\u001b[0m\u001b[0m\n",
      "\u001b[0;31mKeyboardInterrupt\u001b[0m: "
     ]
    }
   ],
   "source": [
    "lgb_foldrun(X_train, y_train, lgb_params, 'BestGRU_experiments')"
   ]
  },
  {
   "cell_type": "raw",
   "metadata": {},
   "source": [
    "feats_src = '/media/w/1c392724-ecf3-4615-8f3c-79368ec36380/DS Projects/Kaggle/Quora/data/features/uncleaned/'\n",
    "\n",
    "xgb_feats = pd.read_csv(feats_src + '/the_1owl/owl_train.csv')\n",
    "y_train = xgb_feats[['is_duplicate']]\n",
    "\n",
    "X_train2 = pd.read_pickle('Xtrain_currentBest_400feats.pkl')\n",
    "X_test2 = pd.read_pickle('Xtest_currentBest_400feats.pkl')\n",
    "\n",
    "oof_test = lgb_foldrun_test(X_train2, y_train, X_test2, lgb_params, 'CurrentBestGRU_400feats')\n",
    "oof_test.to_pickle('OOF')"
   ]
  },
  {
   "cell_type": "code",
   "execution_count": null,
   "metadata": {
    "collapsed": true,
    "scrolled": true
   },
   "outputs": [],
   "source": [
    "gbm = xgb.Booster(model_file = 'saved_models/XGB/XGB_10SKF_FredFeatsGRU_loss0.17917_fold1.txt')\n",
    "dtrain = xgb.DMatrix(X_train, label = y_train)\n",
    "\n",
    "mapper = {'f{0}'.format(i): v for i, v in enumerate(dtrain.feature_names)}\n",
    "importance = {mapper[k]: v for k, v in gbm.get_fscore().items()}\n",
    "importance = sorted(importance.items(), key=lambda x:x[1], reverse=True)[:20]\n",
    "\n",
    "df_importance = pd.DataFrame(importance, columns=['feature', 'fscore'])\n",
    "df_importance['fscore'] = df_importance['fscore'] / df_importance['fscore'].sum()\n",
    "\n",
    "plt.figure()\n",
    "df_importance.plot()\n",
    "df_importance.plot(kind='barh', x='feature', y='fscore', legend=False, figsize=(10, 18))\n",
    "plt.title('XGBoost Feature Importance')\n",
    "plt.xlabel('relative importance')"
   ]
  }
 ],
 "metadata": {
  "kernelspec": {
   "display_name": "Python 3",
   "language": "python",
   "name": "python3"
  },
  "language_info": {
   "codemirror_mode": {
    "name": "ipython",
    "version": 3
   },
   "file_extension": ".py",
   "mimetype": "text/x-python",
   "name": "python",
   "nbconvert_exporter": "python",
   "pygments_lexer": "ipython3",
   "version": "3.5.2"
  }
 },
 "nbformat": 4,
 "nbformat_minor": 2
}
