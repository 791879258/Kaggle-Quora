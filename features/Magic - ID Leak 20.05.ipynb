{
 "cells": [
  {
   "cell_type": "code",
   "execution_count": null,
   "metadata": {
    "collapsed": true
   },
   "outputs": [],
   "source": [
    "import numpy as np\n",
    "import pandas as pd\n",
    "import gensim\n",
    "import re\n",
    "import nltk\n",
    "import csv\n",
    "import gensim\n",
    "import math\n",
    "import timeit\n",
    "import datetime\n",
    "import operator\n",
    "import matplotlib.pyplot as plt\n",
    "%matplotlib inline\n",
    "import seaborn as sns\n",
    "sns.set_style(\"dark\")\n",
    "\n",
    "from collections import Counter\n",
    "from nltk.corpus import stopwords\n",
    "from nltk import word_tokenize, ngrams\n",
    "from pylab import plot, show, subplot, specgram, imshow, savefig\n",
    "from gensim import corpora, models, similarities\n",
    "from tqdm import tqdm\n",
    "import category_encoders as ce"
   ]
  },
  {
   "cell_type": "code",
   "execution_count": null,
   "metadata": {
    "collapsed": true
   },
   "outputs": [],
   "source": [
    "src = '/media/w/1c392724-ecf3-4615-8f3c-79368ec36380/DS Projects/Kaggle/Quora/scripts/features/'\n",
    "\n",
    "train_src = src + 'df_train_spacylemmat_fullclean.csv'\n",
    "test_src = src + 'df_test_spacylemmat_fullclean.csv'\n",
    "\n",
    "train_orig =  pd.read_csv(train_src)\n",
    "test_orig =  pd.read_csv(test_src)"
   ]
  },
  {
   "cell_type": "code",
   "execution_count": null,
   "metadata": {},
   "outputs": [],
   "source": [
    "q1 = train_orig[['qid1', 'question1']]\n",
    "q2 = train_orig[['qid2', 'question2']]\n",
    "\n",
    "q2.rename(columns = {'question2':'question1'},inplace=True)\n",
    "q2.rename(columns = {'qid2':'qid1'},inplace=True)\n",
    "\n",
    "qfull = pd.concat([q1, q2])\n",
    "\n",
    "test_questions = pd.DataFrame()\n",
    "test_questions['question1'] = (test_orig.question1.tolist() + test_orig.question2.tolist())\n",
    "test_questions['id'] = 0"
   ]
  },
  {
   "cell_type": "code",
   "execution_count": null,
   "metadata": {
    "collapsed": true
   },
   "outputs": [],
   "source": [
    "qdict = pd.Series(qfull.qid1.values,index = qfull.question1.values).to_dict()"
   ]
  },
  {
   "cell_type": "code",
   "execution_count": null,
   "metadata": {
    "collapsed": true
   },
   "outputs": [],
   "source": [
    "qdf = pd.DataFrame(qfull.question1.values, index = qfull.qid1.values)"
   ]
  },
  {
   "cell_type": "code",
   "execution_count": null,
   "metadata": {
    "collapsed": true
   },
   "outputs": [],
   "source": [
    "test_questions = test_questions.iloc[0:10000, :]\n",
    "\n",
    "max_id = np.max(qdf.index.values) + 1\n",
    "for i in range(len(test_questions)):\n",
    "    if (test_questions['question1'][i]) in qdict:\n",
    "        test_questions['id'] = qdict[test_questions['question1'][i]]\n",
    "    else:\n",
    "        test_questions['id'][i] = max_id\n",
    "        qdict[test_questions['question1'][i]] = max_id\n",
    "        max_id += 1\n",
    "        #print(max_id)"
   ]
  },
  {
   "cell_type": "code",
   "execution_count": null,
   "metadata": {},
   "outputs": [],
   "source": [
    "import pandas as pd\n",
    "import numpy as np\n",
    "import csv\n",
    "\n",
    "ratio = 6\n",
    "\n",
    "src = '/media/w/1c392724-ecf3-4615-8f3c-79368ec36380/DS Projects/Kaggle/Quora/scripts/features/'\n",
    "train_src = src + 'df_train_spacylemmat_fullclean.csv'\n",
    "test_src = src + 'df_test_spacylemmat_fullclean.csv'\n",
    "\n",
    "train_orig =  pd.read_csv(train_src)\n",
    "test_orig =  pd.read_csv(test_src)\n",
    "test_orig = test_orig[['test_id', 'question1', 'question2']]\n",
    "test_orig.to_csv(src + 'df_test_spacylemmat_fullclean_ORIGCOLS.csv', index = False)\n",
    "\n",
    "train_orig['ts'] = train_orig[['qid1', 'qid2']].apply(min)\n",
    "max_question_id = max(set(train_orig.qid1) | set(train_orig.qid2))\n",
    "df_id1 = train_orig[[\"qid1\", \"question1\"]].drop_duplicates(keep=\"first\").copy().reset_index(drop=True)\n",
    "df_id2 = train_orig[[\"qid2\", \"question2\"]].drop_duplicates(keep=\"first\").copy().reset_index(drop=True)\n",
    "df_id1.columns = [\"qid\", \"question\"]\n",
    "df_id2.columns = [\"qid\", \"question\"]\n",
    "print(df_id1.shape, df_id2.shape)\n",
    "df_id = pd.concat([df_id1, df_id2]).drop_duplicates(keep=\"first\").reset_index(drop=True)\n",
    "print(df_id1.shape, df_id2.shape, df_id.shape)\n",
    "dict_questions = df_id.set_index('question').to_dict()\n",
    "dict_questions = dict_questions[\"qid\"]\n",
    "new_id = 538000 # df_id[\"qid\"].max() ==> 537933\n",
    "def get_id(question):\n",
    "    global dict_questions \n",
    "    global new_id \n",
    "    \n",
    "    if question in dict_questions:\n",
    "        return dict_questions[question]\n",
    "    else:\n",
    "        new_id += 1\n",
    "        dict_questions[question] = new_id\n",
    "        return new_id\n",
    "    \n",
    "rows = []\n",
    "max_lines = 10\n",
    "test_src2 = src + 'df_test_spacylemmat_fullclean_ORIGCOLS.csv'\n",
    "if True:\n",
    "    with open(test_src2, 'r', encoding=\"utf8\") as infile:\n",
    "        reader = csv.reader(infile, delimiter=\",\")\n",
    "        header = next(reader)\n",
    "        header.append('qid1')\n",
    "        header.append('qid2')\n",
    "        \n",
    "        if True:\n",
    "            print(header)\n",
    "            pos, max_lines = 0, 10*1000*1000\n",
    "            for row in tqdm(reader):\n",
    "                # \"test_id\",\"question1\",\"question2\"\n",
    "                question1 = row[1]\n",
    "                question2 = row[2]\n",
    "                qid1 = get_id(question1)\n",
    "                qid2 = get_id(question2)\n",
    "                row.append(qid1)\n",
    "                row.append(qid2)\n",
    "                pos += 1\n",
    "                rows.append(row)\n",
    "                \n",
    "                \n",
    "df = pd.DataFrame(rows)\n",
    "df[3] = df[3].apply(int)\n",
    "df[4] = df[4].apply(int)\n",
    "\n",
    "df['question_id'] = -1\n",
    "df.question_id = df.iloc[:, 3: 4].min(axis = 1)\n",
    "df.question_id = df.question_id.apply(lambda x: (x - max_question_id) / ratio + max_question_id)\n",
    "df.question_id = df.question_id.apply(int)\n",
    "df.columns = ['test_id', 'question1', 'question2', 'qid1', 'qid2', 'question_id']\n",
    "df"
   ]
  },
  {
   "cell_type": "code",
   "execution_count": null,
   "metadata": {},
   "outputs": [],
   "source": [
    "df.to_csv('test_spacylemmat_fullclean_QUESTIONIDS.csv', index = False)"
   ]
  }
 ],
 "metadata": {
  "kernelspec": {
   "display_name": "Python 3",
   "language": "python",
   "name": "python3"
  },
  "language_info": {
   "codemirror_mode": {
    "name": "ipython",
    "version": 3
   },
   "file_extension": ".py",
   "mimetype": "text/x-python",
   "name": "python",
   "nbconvert_exporter": "python",
   "pygments_lexer": "ipython3",
   "version": "3.5.2"
  }
 },
 "nbformat": 4,
 "nbformat_minor": 2
}
