{
 "cells": [
  {
   "cell_type": "code",
   "execution_count": 3,
   "metadata": {},
   "outputs": [
    {
     "name": "stdout",
     "output_type": "stream",
     "text": [
      "df.shape: (2750086, 2)\n"
     ]
    }
   ],
   "source": [
    "import networkx as nx\n",
    "import numpy as np\n",
    "import pandas as pd\n",
    "\n",
    "src = '/media/w/1c392724-ecf3-4615-8f3c-79368ec36380/DS Projects/Kaggle/Quora/scripts/features/'\n",
    "\n",
    "df_train = pd.read_csv(src + \"df_train_spacylemmat_fullclean.csv\", usecols=[\"qid1\", \"qid2\"])\n",
    "df_test = pd.read_csv(src + \"df_test_spacylemmat_fullclean_QUESTIONIDS.csv\", usecols=[\"qid1\", \"qid2\"])\n",
    "df = pd.concat([df_train, df_test])\n",
    "print(\"df.shape:\", df.shape) # df.shape: (2750086, 2)"
   ]
  },
  {
   "cell_type": "code",
   "execution_count": 5,
   "metadata": {},
   "outputs": [
    {
     "name": "stdout",
     "output_type": "stream",
     "text": [
      "2438938 4745227\n",
      "2750086 2738246\n",
      "df_output.shape: (4745227, 1)\n",
      "fieldname =  kcore2\n",
      "len(ck) =  103486\n"
     ]
    },
    {
     "name": "stderr",
     "output_type": "stream",
     "text": [
      "/home/w/anaconda3/envs/idp3/lib/python3.5/site-packages/ipykernel_launcher.py:19: DeprecationWarning: \n",
      ".ix is deprecated. Please use\n",
      ".loc for label based indexing or\n",
      ".iloc for positional indexing\n",
      "\n",
      "See the documentation here:\n",
      "http://pandas.pydata.org/pandas-docs/stable/indexing.html#deprecate_ix\n"
     ]
    },
    {
     "name": "stdout",
     "output_type": "stream",
     "text": [
      "fieldname =  kcore3\n",
      "len(ck) =  36547\n",
      "fieldname =  kcore4\n",
      "len(ck) =  20261\n",
      "fieldname =  kcore5\n",
      "len(ck) =  13284\n",
      "fieldname =  kcore6\n",
      "len(ck) =  9736\n",
      "fieldname =  kcore7\n",
      "len(ck) =  7418\n",
      "fieldname =  kcore8\n",
      "len(ck) =  5924\n",
      "fieldname =  kcore9\n",
      "len(ck) =  4958\n",
      "fieldname =  kcore10\n",
      "len(ck) =  4044\n",
      "fieldname =  kcore11\n",
      "len(ck) =  3526\n",
      "fieldname =  kcore12\n",
      "len(ck) =  2904\n",
      "fieldname =  kcore13\n",
      "len(ck) =  2450\n",
      "fieldname =  kcore14\n",
      "len(ck) =  2091\n",
      "fieldname =  kcore15\n",
      "len(ck) =  1769\n",
      "fieldname =  kcore16\n",
      "len(ck) =  1576\n",
      "fieldname =  kcore17\n",
      "len(ck) =  1405\n",
      "fieldname =  kcore18\n",
      "len(ck) =  1214\n",
      "fieldname =  kcore19\n",
      "len(ck) =  1097\n",
      "fieldname =  kcore20\n",
      "len(ck) =  1010\n"
     ]
    }
   ],
   "source": [
    "g = nx.Graph()\n",
    "g.add_nodes_from(df.qid1)\n",
    "edges = list(df[['qid1', 'qid2']].to_records(index=False))\n",
    "g.add_edges_from(edges)\n",
    "g.remove_edges_from(g.selfloop_edges())\n",
    "print(len(set(df.qid1)), g.number_of_nodes()) # 4789604\n",
    "print(len(df), g.number_of_edges()) # 2743365 (after self-edges)\n",
    "\n",
    "df_output = pd.DataFrame(data=g.nodes(), columns=[\"qid\"])\n",
    "print(\"df_output.shape:\", df_output.shape)\n",
    "\n",
    "NB_CORES = 20\n",
    "for k in range(2, NB_CORES + 1):\n",
    "    fieldname = \"kcore{}\".format(k)\n",
    "    print(\"fieldname = \", fieldname)\n",
    "    ck = nx.k_core(g, k=k).nodes()\n",
    "    print(\"len(ck) = \", len(ck))\n",
    "    df_output[fieldname] = 0\n",
    "    df_output.ix[df_output.qid.isin(ck), fieldname] = k\n",
    "    \n",
    "df_output.to_csv(\"question_kcores.csv\", index=None)"
   ]
  },
  {
   "cell_type": "code",
   "execution_count": 6,
   "metadata": {},
   "outputs": [
    {
     "name": "stderr",
     "output_type": "stream",
     "text": [
      "/home/w/anaconda3/envs/idp3/lib/python3.5/site-packages/numpy/lib/arraysetops.py:395: FutureWarning: elementwise comparison failed; returning scalar instead, but in the future will perform elementwise comparison\n",
      "  mask |= (ar1 == a)\n"
     ]
    }
   ],
   "source": [
    "df_cores = pd.read_csv(\"question_kcores.csv\", index_col=\"qid\")\n",
    "df_cores.index.names = [\"qid\"]\n",
    "df_cores['max_kcore'] = df_cores.apply(lambda row: max(row), axis=1)\n",
    "df_cores[['max_kcore']].to_csv(\"question_max_kcores.csv\") # with index"
   ]
  },
  {
   "cell_type": "code",
   "execution_count": null,
   "metadata": {
    "collapsed": true
   },
   "outputs": [],
   "source": []
  }
 ],
 "metadata": {
  "kernelspec": {
   "display_name": "Python 3",
   "language": "python",
   "name": "python3"
  },
  "language_info": {
   "codemirror_mode": {
    "name": "ipython",
    "version": 3
   },
   "file_extension": ".py",
   "mimetype": "text/x-python",
   "name": "python",
   "nbconvert_exporter": "python",
   "pygments_lexer": "ipython3",
   "version": "3.5.2"
  }
 },
 "nbformat": 4,
 "nbformat_minor": 2
}
