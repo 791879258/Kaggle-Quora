{
 "cells": [
  {
   "cell_type": "code",
   "execution_count": 1,
   "metadata": {
    "collapsed": false,
    "deletable": true,
    "editable": true,
    "scrolled": true
   },
   "outputs": [
    {
     "name": "stderr",
     "output_type": "stream",
     "text": [
      "/home/w/anaconda2/envs/idp2/lib/python2.7/site-packages/sklearn/cross_validation.py:44: DeprecationWarning: This module was deprecated in version 0.18 in favor of the model_selection module into which all the refactored classes and functions are moved. Also note that the interface of the new CV iterators are different from that of this module. This module will be removed in 0.20.\n",
      "  \"This module will be removed in 0.20.\", DeprecationWarning)\n"
     ]
    }
   ],
   "source": [
    "import numpy as np\n",
    "import pandas as pd\n",
    "\n",
    "import itertools\n",
    "import time\n",
    "from datetime import datetime\n",
    "\n",
    "from sklearn import preprocessing\n",
    "from sklearn.cross_validation import KFold\n",
    "from sklearn.preprocessing import StandardScaler, RobustScaler\n",
    "from sklearn.cluster import KMeans\n",
    "from sklearn.model_selection import cross_val_score, train_test_split\n",
    "from sklearn.metrics import make_scorer, mean_absolute_error\n",
    "\n",
    "from scipy.stats import skew, boxcox\n",
    "from scipy.sparse import csr_matrix, hstack, spmatrix\n",
    "\n"
   ]
  },
  {
   "cell_type": "code",
   "execution_count": 2,
   "metadata": {
    "collapsed": true,
    "deletable": true,
    "editable": true
   },
   "outputs": [],
   "source": [
    "def encode(charcode):\n",
    "    r = 0\n",
    "    ln = len(str(charcode))\n",
    "    for i in range(ln):\n",
    "        r += (ord(str(charcode)[i]) - ord('A') + 1) * 26 ** (ln - i - 1)\n",
    "    return r\n",
    "\n",
    "shift = 200\n",
    "COMB_FEATURE = 'cat80,cat87,cat57,cat12,cat79,cat10,cat7,cat89,cat2,cat72,' \\\n",
    "               'cat81,cat11,cat1,cat13,cat9,cat3,cat16,cat90,cat23,cat36,' \\\n",
    "               'cat73,cat103,cat40,cat28,cat111,cat6,cat76,cat50,cat5,' \\\n",
    "               'cat4,cat14,cat38,cat24,cat82,cat25'.split(',')"
   ]
  },
  {
   "cell_type": "code",
   "execution_count": 3,
   "metadata": {
    "collapsed": false,
    "deletable": true,
    "editable": true
   },
   "outputs": [],
   "source": [
    "def output(name_train, name_test, files_train, files_test):\n",
    "    \n",
    "    train_preds = pd.DataFrame(np.concatenate(files_train, axis = 1))\n",
    "    test_preds = pd.DataFrame(np.concatenate(files_test, axis = 1))\n",
    "    \n",
    "    train_preds.to_csv('Good_preds/Sklearn/{}.csv'.format(name_train), index = False)\n",
    "    test_preds.to_csv('Good_preds/Sklearn/{}.csv'.format(name_test), index = False)\n",
    "                      \n",
    "    return\n"
   ]
  },
  {
   "cell_type": "code",
   "execution_count": 4,
   "metadata": {
    "collapsed": true,
    "deletable": true,
    "editable": true
   },
   "outputs": [],
   "source": [
    "ID = 'id'\n",
    "TARGET = 'loss'\n",
    "NFOLDS = 5\n",
    "SEED = 669\n",
    "NROWS = None\n",
    "DATA_DIR = \"../..\"\n",
    "\n",
    "def nn_load(interactions = False):\n",
    "\n",
    "    TRAIN_FILE = \"{0}/train.csv\".format(DATA_DIR)\n",
    "    TEST_FILE = \"{0}/test.csv\".format(DATA_DIR)\n",
    "    SUBMISSION_FILE = \"{0}/sample_submission.csv\".format(DATA_DIR)\n",
    "\n",
    "    train = pd.read_csv(TRAIN_FILE, nrows=NROWS)\n",
    "    test = pd.read_csv(TEST_FILE, nrows=NROWS)\n",
    "\n",
    "    train_indices = train[ID].values\n",
    "    test_indices = test[ID].values\n",
    "\n",
    "\n",
    "    y_train = train[\"loss\"].values\n",
    "    #y_train_ravel = train[TARGET].ravel()\n",
    "\n",
    "    train.drop([ID, TARGET], axis=1, inplace=True)\n",
    "    test.drop([ID], axis=1, inplace=True)\n",
    "\n",
    "    print(\"{},{}\".format(train.shape, test.shape))\n",
    "\n",
    "    ntrain = train.shape[0]\n",
    "    ntest = test.shape[0]\n",
    "    train_test = pd.concat((train, test)).reset_index(drop=True)\n",
    "    \n",
    "    numeric_feats = [x for x in train.columns[1:-1] if 'cont' in x]\n",
    "    \n",
    "    features = train.columns\n",
    "    cats = [feat for feat in features if 'cat' in feat]\n",
    "    \n",
    "    if interactions:\n",
    "        print('2-way feature combinations.')\n",
    "        for comb in itertools.combinations(COMB_FEATURE, 2):\n",
    "            feat = comb[0] + \"_\" + comb[1]\n",
    "            train_test[feat] = train_test[comb[0]] + train_test[comb[1]]\n",
    "            train_test[feat] = pd.factorize(train_test[feat], sort=True)[0]\n",
    "        print \"2-way interactions done.\"\n",
    "    print train_test.shape\n",
    "\n",
    "    for feat in cats:\n",
    "        train_test[feat] = train_test[feat].apply(encode)\n",
    "    print '\\n', \"Features for NN encoded\"\n",
    "\n",
    "    features = train_test.columns\n",
    "    cats = [feat for feat in features if 'cat' in feat]\n",
    "\n",
    "    sparse_data = []\n",
    "\n",
    "    for feature in cats:\n",
    "        dummy = pd.get_dummies(train_test[feature].astype(\"category\"), drop_first = True)\n",
    "        temp = csr_matrix(dummy)\n",
    "        sparse_data.append(temp)\n",
    "\n",
    "    nums = [feat for feat in features if \"cont\" in feat]\n",
    "    scaler = RobustScaler()\n",
    "    temp = csr_matrix(scaler.fit_transform(train_test[nums]))\n",
    "\n",
    "    sparse_data.append(temp)\n",
    "    #sparse_data.append(pca1)\n",
    "\n",
    "    del train_test\n",
    "\n",
    "    x_traintest = hstack(sparse_data, format = \"csr\")\n",
    "    x_train = x_traintest[:ntrain, :]\n",
    "    x_test = x_traintest[ntrain:, :]\n",
    "\n",
    "    print x_train.shape\n",
    "    print x_test.shape\n",
    "\n",
    "    del x_traintest, sparse_data, temp\n",
    "\n",
    "    print '\\n', 'NN dataset loaded.', '\\n'\n",
    "\n",
    "    return x_train, x_test, y_train"
   ]
  },
  {
   "cell_type": "code",
   "execution_count": 5,
   "metadata": {
    "collapsed": false,
    "deletable": true,
    "editable": true
   },
   "outputs": [
    {
     "name": "stdout",
     "output_type": "stream",
     "text": [
      "(188318, 130),(125546, 130)\n",
      "2-way feature combinations.\n",
      "2-way interactions done.\n",
      "(313864, 725)\n",
      "\n",
      "Features for NN encoded\n",
      "(188318, 6303)\n",
      "(125546, 6303)\n",
      "\n",
      "NN dataset loaded. \n",
      "\n"
     ]
    }
   ],
   "source": [
    "X1, X_te1, y1 = nn_load(True)"
   ]
  },
  {
   "cell_type": "code",
   "execution_count": 7,
   "metadata": {
    "collapsed": false,
    "deletable": true,
    "editable": true
   },
   "outputs": [],
   "source": [
    "SEED = 2016\n",
    "NFOLDS = 5\n",
    "kf = KFold(X1.shape[0], n_folds = NFOLDS, shuffle = True, random_state = 111)\n",
    "ntrain = X1.shape[0]\n",
    "ntest = X_te1.shape[0]\n",
    "\n",
    "X_tr1, X_val1, y_tr1, y_val1 = train_test_split(X1, y1, test_size = 0.2, random_state = 111)"
   ]
  },
  {
   "cell_type": "markdown",
   "metadata": {
    "deletable": true,
    "editable": true
   },
   "source": [
    "#### With interactions:\n",
    "\n",
    "VW: 1308.11978541\n",
    "\n",
    "MCMC: 1206"
   ]
  },
  {
   "cell_type": "code",
   "execution_count": null,
   "metadata": {
    "collapsed": false,
    "deletable": true,
    "editable": true
   },
   "outputs": [],
   "source": [
    "from vowpalwabbit.sklearn_vw import VWRegressor, VW\n",
    "\n",
    "model = VWRegressor(l = 2000, random_seed = 2016)\n",
    "model.fit(X_tr1, y_tr1)\n",
    "\n",
    "preds_vw = model.predict(X_val1)\n",
    "print mean_absolute_error(y_val1, preds_vw)"
   ]
  },
  {
   "cell_type": "code",
   "execution_count": 11,
   "metadata": {
    "collapsed": true,
    "deletable": true,
    "editable": true
   },
   "outputs": [],
   "source": [
    "from fastFM import sgd, als, mcmc\n",
    "from scipy import sparse\n",
    "\n",
    "fm_mcmc = mcmc.FMRegression(n_iter = 200, init_stdev=0.1, rank = 8, random_state = 2016)\n",
    "fm_als = als.FMRegression(n_iter = 200, init_stdev=0.1, rank = 8, random_state = 2016, l2_reg_w = 0.05)"
   ]
  },
  {
   "cell_type": "code",
   "execution_count": 12,
   "metadata": {
    "collapsed": false,
    "deletable": true,
    "editable": true
   },
   "outputs": [
    {
     "name": "stdout",
     "output_type": "stream",
     "text": [
      "1588.06178287\n"
     ]
    }
   ],
   "source": [
    "fm_als.fit(X_tr1, y_tr1)\n",
    "preds_als = fm_als.predict(X_val1)\n",
    "\n",
    "print mean_absolute_error(y_val1, preds_als)"
   ]
  },
  {
   "cell_type": "code",
   "execution_count": null,
   "metadata": {
    "collapsed": false,
    "deletable": true,
    "editable": true
   },
   "outputs": [],
   "source": [
    "preds_mcmc2 = fm_mcmc.fit_predict(X_tr1, y_tr1, X_val1)\n",
    "print mean_absolute_error(y_val1, preds_mcmc2)"
   ]
  },
  {
   "cell_type": "code",
   "execution_count": 16,
   "metadata": {
    "collapsed": true,
    "deletable": true,
    "editable": true
   },
   "outputs": [],
   "source": [
    "def oof_VW(clf, X, y):\n",
    "    \n",
    "    t = time.time()\n",
    "    oof_train = np.zeros((ntrain,))\n",
    "    oof_test = np.zeros((ntest,))\n",
    "    oof_test_skf = np.empty((NFOLDS, ntest))\n",
    "\n",
    "    for i, (train_index, test_index) in enumerate(kf):\n",
    "        \n",
    "        x_tr = X[train_index]\n",
    "        y_tr = y[train_index]\n",
    "        x_te = X[test_index]\n",
    "        y_te = y[test_index]\n",
    "\n",
    "        clf.fit(x_tr, y_tr)\n",
    "\n",
    "        preds = clf.predict(x_te)\n",
    "        oof_train[test_index] = clf.predict(x_te)\n",
    "        oof_test_skf[i, :] = clf.predict(X_te1)\n",
    "        \n",
    "        print \"Done for fold: \", i+1\n",
    "        print \"Fold MAE: \", mean_absolute_error(y_te, preds)\n",
    "\n",
    "    oof_test[:] = oof_test_skf.mean(axis=0)\n",
    "    \n",
    "    print \"Full training took: \", time.time() - t\n",
    "    return oof_train.reshape(-1, 1), oof_test.reshape(-1, 1)\n",
    "\n",
    "def oof_FM(clf, X, y):\n",
    "    \n",
    "    t = time.time()\n",
    "    oof_test_skf = np.empty((NFOLDS, ntest))\n",
    "    oof_train = np.zeros((ntrain,))\n",
    "    oof_test = np.zeros((ntest,))\n",
    "\n",
    "    for i, (train_index, test_index) in enumerate(kf):\n",
    "        \n",
    "        x_tr = X[train_index]\n",
    "        y_tr = y[train_index]\n",
    "        x_te = X[test_index]\n",
    "        y_te = y[test_index]\n",
    "        \n",
    "        oof_test_skf[i, :] = fm_mcmc.fit_predict(x_tr, y_tr, X_te1)\n",
    "        oof_train[test_index] = fm_mcmc.fit_predict(x_tr, y_tr, x_te)\n",
    "        \n",
    "        print \"Done for fold: \", i+1\n",
    "\n",
    "    oof_test[:] = oof_test_skf.mean(axis=0)\n",
    "    \n",
    "    print \"Full training took: \", time.time() - t\n",
    "    return oof_train.reshape(-1, 1), oof_test.reshape(-1, 1)"
   ]
  },
  {
   "cell_type": "code",
   "execution_count": null,
   "metadata": {
    "collapsed": false,
    "deletable": true,
    "editable": true
   },
   "outputs": [],
   "source": [
    "vw_tr, vw_te = oof_VW(model, X1, y1)\n",
    "\n",
    "tr = [vw_tr]\n",
    "te = [vw_te]\n",
    "\n",
    "output('train1_VW_interactions_7.12', 'test1_VW_interactions_7.12', tr, te)"
   ]
  },
  {
   "cell_type": "code",
   "execution_count": 17,
   "metadata": {
    "collapsed": false,
    "deletable": true,
    "editable": true
   },
   "outputs": [
    {
     "name": "stdout",
     "output_type": "stream",
     "text": [
      "Done for fold:  1\n",
      "Done for fold:  2\n",
      "Done for fold:  3\n",
      "Done for fold:  4\n",
      "Done for fold:  5\n",
      "Full training took:  16561.388062\n"
     ]
    }
   ],
   "source": [
    "fm_tr, fm_te = oof_FM(fm_mcmc, X1, y1)\n",
    "\n",
    "tr = [fm_tr]\n",
    "te = [fm_te]\n",
    "\n",
    "output('train1_FFM-MCMC_interactions_7.12', 'test1_FFM-MCMC_interactions_7.12', tr, te)"
   ]
  },
  {
   "cell_type": "code",
   "execution_count": null,
   "metadata": {
    "collapsed": true,
    "deletable": true,
    "editable": true
   },
   "outputs": [],
   "source": []
  }
 ],
 "metadata": {
  "kernelspec": {
   "display_name": "Python 3",
   "language": "python",
   "name": "python3"
  },
  "language_info": {
   "codemirror_mode": {
    "name": "ipython",
    "version": 3
   },
   "file_extension": ".py",
   "mimetype": "text/x-python",
   "name": "python",
   "nbconvert_exporter": "python",
   "pygments_lexer": "ipython3",
   "version": "3.5.2"
  }
 },
 "nbformat": 4,
 "nbformat_minor": 1
}
