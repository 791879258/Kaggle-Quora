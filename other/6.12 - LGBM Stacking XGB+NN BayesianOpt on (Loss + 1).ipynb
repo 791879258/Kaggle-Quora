{
 "cells": [
  {
   "cell_type": "code",
   "execution_count": 1,
   "metadata": {
    "collapsed": false,
    "deletable": true,
    "editable": true
   },
   "outputs": [
    {
     "name": "stderr",
     "output_type": "stream",
     "text": [
      "/home/w/anaconda2/envs/idp2/lib/python2.7/site-packages/sklearn/cross_validation.py:44: DeprecationWarning: This module was deprecated in version 0.18 in favor of the model_selection module into which all the refactored classes and functions are moved. Also note that the interface of the new CV iterators are different from that of this module. This module will be removed in 0.20.\n",
      "  \"This module will be removed in 0.20.\", DeprecationWarning)\n"
     ]
    }
   ],
   "source": [
    "import numpy as np\n",
    "import pandas as pd\n",
    "\n",
    "import itertools\n",
    "import time\n",
    "from datetime import datetime\n",
    "\n",
    "from sklearn.cross_validation import KFold\n",
    "from sklearn.preprocessing import StandardScaler, RobustScaler\n",
    "from sklearn import preprocessing\n",
    "from sklearn.cluster import KMeans\n",
    "from sklearn.model_selection import cross_val_score, train_test_split\n",
    "from sklearn.metrics import make_scorer, mean_absolute_error\n",
    "\n",
    "from scipy.stats import skew, boxcox\n",
    "from scipy.sparse import csr_matrix, hstack, spmatrix\n",
    "\n",
    "import xgboost as xgb"
   ]
  },
  {
   "cell_type": "code",
   "execution_count": 2,
   "metadata": {
    "collapsed": false,
    "deletable": true,
    "editable": true,
    "scrolled": true
   },
   "outputs": [],
   "source": [
    "xgb_tr1 = pd.read_csv('Good_preds/XGB_LGBM/train2_LGBM_30.11_10folds_0.003eta_interactions.csv')\n",
    "xgb_tr2 = pd.read_csv('Good_preds/XGB_LGBM/train2_XGBM_2&3_30.11_10folds_0.01eta_interactions.csv')\n",
    "xgb_tr3 = pd.read_csv('Good_preds/XGB_LGBM/train3_preds_XGB2&3+LGBM3_interactions_eta0.03.csv')\n",
    "xgb_tr4 = pd.read_csv('Good_preds/XGB_LGBM/train1_XGB4_eta0.01_2.12.csv')\n",
    "xgb_tr5 = pd.read_csv('Good_preds/XGB_LGBM/train3_preds_no_interactions_eta0.01_oldparams.csv')\n",
    "xgb_tr6 = pd.read_csv('Good_preds/XGB_LGBM/train1_XGBL2_stack_log+210_4.12.csv')\n",
    "xgb_tr7 = pd.read_csv('Good_preds/XGB_LGBM/train1_XGB_Alikernel.csv')['0']\n",
    "\n",
    "nn_tr1 = pd.read_csv('Good_preds/NN/train1_kernelbagging_log+210.csv')\n",
    "nn_tr2 = pd.read_csv('Good_preds/NN/train1_nn3_10folds_10bags_loss+1.csv')\n",
    "nn_tr3 = pd.read_csv('Good_preds/NN/train1_kernelbagging_nonlog.csv')\n",
    "nn_tr4 = pd.read_csv('Good_preds/NN/train1_nn3_10fold5bags_log+210.csv')\n",
    "nn_tr5 = pd.read_csv('Good_preds/NN/train1_nn3_10folds_10bags_loss+1.csv')\n",
    "nn_tr6 = pd.read_csv('Good_preds/NN/train1_nn4_10folds_10bags_loss+1.csv')\n",
    "nn_tr7 = pd.read_csv('Good_preds/NN/train1_nn1_log+210.csv')\n",
    "nn_tr8 = pd.read_csv('Good_preds/NN/train1_NNL2_raw_10folds3bags_6.12.csv')\n",
    "\n",
    "sklearn_knn = pd.read_csv('Good_preds/Sklearn/train_knn_sklearn_algos_4.12.csv')\n",
    "sklearn_sparse = pd.read_csv('Good_preds/Sklearn/train_sparse_sklearn_algos_5.12.csv')\n",
    "etrf_tr = pd.read_csv('Good_preds/Sklearn/train2_ET&RF_Faron_6.12.csv')\n",
    "\n",
    "\n",
    "nn_tr1.set_index('id', inplace = True)\n",
    "nn_tr1.sort_index(inplace = True)\n",
    "nn_tr1.reset_index(inplace = True)\n",
    "\n",
    "nn_tr3.set_index('id', inplace = True)\n",
    "nn_tr3.sort_index(inplace = True)\n",
    "nn_tr3.reset_index(inplace = True)\n",
    "\n",
    "nn_tr1 = nn_tr1['loss']\n",
    "nn_tr3 = nn_tr3['loss']\n",
    "\n",
    "preds_tr = pd.concat([xgb_tr1, xgb_tr2, xgb_tr3, xgb_tr4, xgb_tr5, xgb_tr6, xgb_tr7,\n",
    "                      nn_tr1, nn_tr3, nn_tr2, nn_tr4, nn_tr5, nn_tr6, nn_tr7, nn_tr8,\n",
    "                     sklearn_knn, sklearn_sparse, etrf_tr], 1)\n",
    "preds_tr.columns = xrange(preds_tr.shape[1])\n",
    "\n",
    "X_train1 = (preds_tr + 1) ** 0.25\n",
    "y_train1 = (pd.read_csv('../../train.csv')['loss'] + 1) ** 0.25\n",
    "\n"
   ]
  },
  {
   "cell_type": "code",
   "execution_count": 3,
   "metadata": {
    "collapsed": true,
    "deletable": true,
    "editable": true
   },
   "outputs": [],
   "source": [
    "X_train2 = X_train1.iloc[:, [1, 3, 6, 7, 11, 20, 22, 25, 26, 33, 34]]"
   ]
  },
  {
   "cell_type": "code",
   "execution_count": 10,
   "metadata": {
    "collapsed": true,
    "deletable": true,
    "editable": true
   },
   "outputs": [],
   "source": [
    "def gbmr_model(num_leaves, min_data_in_leaf, feature_fraction, bagging_fraction, max_depth):\n",
    "    \n",
    "    gbmr = GBMRegressor(\n",
    "        exec_path='/path/to/your/LightGBM/lightgbm', # Change this to your LighGBM path \n",
    "        config='',\n",
    "        application='regression',\n",
    "        num_iterations = 20000,\n",
    "        learning_rate=0.01,\n",
    "        num_leaves=int(num_leaves),\n",
    "        tree_learner='serial',\n",
    "        num_threads = -1,\n",
    "        min_data_in_leaf=int(min_data_in_leaf),\n",
    "        max_depth = int(max_depth),\n",
    "        metric='l1',\n",
    "        feature_fraction=max(feature_fraction,0),\n",
    "        feature_fraction_seed = 42,\n",
    "        bagging_fraction=max(bagging_fraction,0),\n",
    "        bagging_freq=100,\n",
    "        bagging_seed = 42,\n",
    "        metric_freq=1,\n",
    "        early_stopping_round = 50,\n",
    "        verbose=False,\n",
    "    )\n",
    "    \n",
    "    return gbmr\n",
    "\n",
    "\n",
    "def gbmr_foldeval(num_leaves, min_data_in_leaf, feature_fraction, bagging_fraction, max_depth):\n",
    "\n",
    "    t = time.time()\n",
    "    scores = []\n",
    "    best_rounds = []\n",
    "    \n",
    "    gbmr2 = gbmr_model(num_leaves, min_data_in_leaf, feature_fraction, bagging_fraction, max_depth)\n",
    "    \n",
    "    for i, (train_index, test_index) in enumerate(kf):\n",
    "            print \"Training on fold no. : {}\".format(i + 1)\n",
    "\n",
    "            X_train = X_train1.values[train_index]\n",
    "            y_train = y_train1[train_index]\n",
    "            X_val = X_train1.values[test_index]\n",
    "            y_val = y_train1[test_index]\n",
    "            pred = np.zeros(X_val.shape[0])\n",
    "\n",
    "            gbmr2.fit(X_train, y_train, test_data = [(X_val, y_val)])\n",
    "            preds = gbmr2.predict(X_val)\n",
    "\n",
    "            score = mean_absolute_error((y_val ** 4) - 1, (preds ** 4) - 1)\n",
    "            scores.append(score)\n",
    "            best_round = gbmr2.best_round\n",
    "            best_rounds.append(best_round)\n",
    "\n",
    "            print \"Validation score for round {}\".format(i + 1), score\n",
    "            print \"Best round score for round {}\".format(i + 1), gbmr2.best_round\n",
    "\n",
    "    mean_score = np.array(scores).mean()\n",
    "    mean_best_round = int(np.mean(best_rounds))\n",
    "    print \"Mean score: \", mean_score\n",
    "    print \"Averaged best round: \", mean_best_round\n",
    "    print \"Time it took: \", time.time() - t \n",
    "\n",
    "    return -mean_score"
   ]
  },
  {
   "cell_type": "code",
   "execution_count": 11,
   "metadata": {
    "collapsed": true,
    "deletable": true,
    "editable": true
   },
   "outputs": [],
   "source": [
    "from bayes_opt import BayesianOptimization\n",
    "from pylightgbm.models import GBMRegressor"
   ]
  },
  {
   "cell_type": "markdown",
   "metadata": {
    "deletable": true,
    "editable": true
   },
   "source": [
    "   1 | 05m00s | -1123.57836 |             0.9769 |             0.3039 |      5.1240 |            61.3959 |     114.8604 |"
   ]
  },
  {
   "cell_type": "code",
   "execution_count": 12,
   "metadata": {
    "collapsed": false,
    "deletable": true,
    "editable": true,
    "scrolled": true
   },
   "outputs": [
    {
     "name": "stdout",
     "output_type": "stream",
     "text": [
      "\u001b[31mInitialization\u001b[0m\n",
      "\u001b[94m-------------------------------------------------------------------------------------------------------------------------\u001b[0m\n",
      " Step |   Time |      Value |   bagging_fraction |   feature_fraction |   max_depth |   min_data_in_leaf |   num_leaves | \n",
      "Training on fold no. : 1\n",
      "Validation score for round 1 1112.51027386\n",
      "Best round score for round 1 541\n",
      "Training on fold no. : 2\n",
      "Validation score for round 2 1121.26139728\n",
      "Best round score for round 2 527\n",
      "Training on fold no. : 3\n",
      "Validation score for round 3 1134.87732925\n",
      "Best round score for round 3 554\n",
      "Training on fold no. : 4\n",
      "Validation score for round 4 1123.16853075\n",
      "Best round score for round 4 547\n",
      "Training on fold no. : 5\n",
      "Validation score for round 5 1126.07425146\n",
      "Best round score for round 5 569\n",
      "Mean score:  1123.57835652\n",
      "Averaged best round:  547\n",
      "Time it took:  300.897793055\n",
      "    1 | 05m00s | \u001b[35m-1123.57836\u001b[0m | \u001b[32m            0.9769\u001b[0m | \u001b[32m            0.3039\u001b[0m | \u001b[32m     5.1240\u001b[0m | \u001b[32m           61.3959\u001b[0m | \u001b[32m    114.8604\u001b[0m | \n",
      "Training on fold no. : 1\n",
      "Validation score for round 1 1112.74776657\n",
      "Best round score for round 1 540\n",
      "Training on fold no. : 2\n",
      "Validation score for round 2 1122.09153665\n",
      "Best round score for round 2 531\n",
      "Training on fold no. : 3\n",
      "Validation score for round 3 1135.6158243\n",
      "Best round score for round 3 527\n",
      "Training on fold no. : 4\n",
      "Validation score for round 4 1123.7292443\n",
      "Best round score for round 4 563\n",
      "Training on fold no. : 5\n",
      "Validation score for round 5 1126.64590865\n",
      "Best round score for round 5 568\n",
      "Mean score:  1124.16605609\n",
      "Averaged best round:  545\n",
      "Time it took:  714.018043995\n",
      "    2 | 11m54s | -1124.16606 |             0.7798 |             0.2042 |     11.4941 |            35.7881 |     133.0454 | \n",
      "Training on fold no. : 1\n",
      "Validation score for round 1 1113.92221355\n",
      "Best round score for round 1 539\n",
      "Training on fold no. : 2\n",
      "Validation score for round 2 1122.2722524\n",
      "Best round score for round 2 537\n",
      "Training on fold no. : 3\n",
      "Validation score for round 3 1135.80994907\n",
      "Best round score for round 3 551\n",
      "Training on fold no. : 4\n",
      "Validation score for round 4 1124.02038746\n",
      "Best round score for round 4 544\n",
      "Training on fold no. : 5\n",
      "Validation score for round 5 1126.63701452\n",
      "Best round score for round 5 588\n",
      "Mean score:  1124.5323634\n",
      "Averaged best round:  551\n",
      "Time it took:  739.7424891\n",
      "    3 | 12m19s | -1124.53236 |             0.8870 |             0.6301 |      8.4083 |            62.8995 |     172.0835 | \n",
      "Training on fold no. : 1\n"
     ]
    },
    {
     "ename": "KeyboardInterrupt",
     "evalue": "",
     "output_type": "error",
     "traceback": [
      "\u001b[1;31m---------------------------------------------------------------------------\u001b[0m",
      "\u001b[1;31mKeyboardInterrupt\u001b[0m                         Traceback (most recent call last)",
      "\u001b[1;32m<ipython-input-12-5b95c3c220a1>\u001b[0m in \u001b[0;36m<module>\u001b[1;34m()\u001b[0m\n\u001b[0;32m     15\u001b[0m                              )\n\u001b[0;32m     16\u001b[0m \u001b[1;33m\u001b[0m\u001b[0m\n\u001b[1;32m---> 17\u001b[1;33m \u001b[0mgbmrBO\u001b[0m\u001b[1;33m.\u001b[0m\u001b[0mmaximize\u001b[0m\u001b[1;33m(\u001b[0m\u001b[0minit_points\u001b[0m\u001b[1;33m=\u001b[0m\u001b[0minit_points\u001b[0m\u001b[1;33m,\u001b[0m \u001b[0mn_iter\u001b[0m\u001b[1;33m=\u001b[0m\u001b[0mnum_iter\u001b[0m\u001b[1;33m)\u001b[0m\u001b[1;33m\u001b[0m\u001b[0m\n\u001b[0m\u001b[0;32m     18\u001b[0m \u001b[1;33m\u001b[0m\u001b[0m\n\u001b[0;32m     19\u001b[0m \u001b[1;32mprint\u001b[0m\u001b[1;33m(\u001b[0m\u001b[1;34m'Final Results'\u001b[0m\u001b[1;33m)\u001b[0m\u001b[1;33m\u001b[0m\u001b[0m\n",
      "\u001b[1;32m/home/w/anaconda2/envs/idp2/lib/python2.7/site-packages/bayes_opt/bayesian_optimization.pyc\u001b[0m in \u001b[0;36mmaximize\u001b[1;34m(self, init_points, n_iter, acq, kappa, xi, **gp_params)\u001b[0m\n\u001b[0;32m    255\u001b[0m             \u001b[1;32mif\u001b[0m \u001b[0mself\u001b[0m\u001b[1;33m.\u001b[0m\u001b[0mverbose\u001b[0m\u001b[1;33m:\u001b[0m\u001b[1;33m\u001b[0m\u001b[0m\n\u001b[0;32m    256\u001b[0m                 \u001b[0mself\u001b[0m\u001b[1;33m.\u001b[0m\u001b[0mplog\u001b[0m\u001b[1;33m.\u001b[0m\u001b[0mprint_header\u001b[0m\u001b[1;33m(\u001b[0m\u001b[1;33m)\u001b[0m\u001b[1;33m\u001b[0m\u001b[0m\n\u001b[1;32m--> 257\u001b[1;33m             \u001b[0mself\u001b[0m\u001b[1;33m.\u001b[0m\u001b[0minit\u001b[0m\u001b[1;33m(\u001b[0m\u001b[0minit_points\u001b[0m\u001b[1;33m)\u001b[0m\u001b[1;33m\u001b[0m\u001b[0m\n\u001b[0m\u001b[0;32m    258\u001b[0m \u001b[1;33m\u001b[0m\u001b[0m\n\u001b[0;32m    259\u001b[0m         \u001b[0my_max\u001b[0m \u001b[1;33m=\u001b[0m \u001b[0mself\u001b[0m\u001b[1;33m.\u001b[0m\u001b[0mY\u001b[0m\u001b[1;33m.\u001b[0m\u001b[0mmax\u001b[0m\u001b[1;33m(\u001b[0m\u001b[1;33m)\u001b[0m\u001b[1;33m\u001b[0m\u001b[0m\n",
      "\u001b[1;32m/home/w/anaconda2/envs/idp2/lib/python2.7/site-packages/bayes_opt/bayesian_optimization.pyc\u001b[0m in \u001b[0;36minit\u001b[1;34m(self, init_points)\u001b[0m\n\u001b[0;32m    102\u001b[0m         \u001b[1;32mfor\u001b[0m \u001b[0mx\u001b[0m \u001b[1;32min\u001b[0m \u001b[0mself\u001b[0m\u001b[1;33m.\u001b[0m\u001b[0minit_points\u001b[0m\u001b[1;33m:\u001b[0m\u001b[1;33m\u001b[0m\u001b[0m\n\u001b[0;32m    103\u001b[0m \u001b[1;33m\u001b[0m\u001b[0m\n\u001b[1;32m--> 104\u001b[1;33m             \u001b[0my_init\u001b[0m\u001b[1;33m.\u001b[0m\u001b[0mappend\u001b[0m\u001b[1;33m(\u001b[0m\u001b[0mself\u001b[0m\u001b[1;33m.\u001b[0m\u001b[0mf\u001b[0m\u001b[1;33m(\u001b[0m\u001b[1;33m**\u001b[0m\u001b[0mdict\u001b[0m\u001b[1;33m(\u001b[0m\u001b[0mzip\u001b[0m\u001b[1;33m(\u001b[0m\u001b[0mself\u001b[0m\u001b[1;33m.\u001b[0m\u001b[0mkeys\u001b[0m\u001b[1;33m,\u001b[0m \u001b[0mx\u001b[0m\u001b[1;33m)\u001b[0m\u001b[1;33m)\u001b[0m\u001b[1;33m)\u001b[0m\u001b[1;33m)\u001b[0m\u001b[1;33m\u001b[0m\u001b[0m\n\u001b[0m\u001b[0;32m    105\u001b[0m \u001b[1;33m\u001b[0m\u001b[0m\n\u001b[0;32m    106\u001b[0m             \u001b[1;32mif\u001b[0m \u001b[0mself\u001b[0m\u001b[1;33m.\u001b[0m\u001b[0mverbose\u001b[0m\u001b[1;33m:\u001b[0m\u001b[1;33m\u001b[0m\u001b[0m\n",
      "\u001b[1;32m<ipython-input-10-fbaf504c17ed>\u001b[0m in \u001b[0;36mgbmr_foldeval\u001b[1;34m(num_leaves, min_data_in_leaf, feature_fraction, bagging_fraction, max_depth)\u001b[0m\n\u001b[0;32m     43\u001b[0m             \u001b[0mpred\u001b[0m \u001b[1;33m=\u001b[0m \u001b[0mnp\u001b[0m\u001b[1;33m.\u001b[0m\u001b[0mzeros\u001b[0m\u001b[1;33m(\u001b[0m\u001b[0mX_val\u001b[0m\u001b[1;33m.\u001b[0m\u001b[0mshape\u001b[0m\u001b[1;33m[\u001b[0m\u001b[1;36m0\u001b[0m\u001b[1;33m]\u001b[0m\u001b[1;33m)\u001b[0m\u001b[1;33m\u001b[0m\u001b[0m\n\u001b[0;32m     44\u001b[0m \u001b[1;33m\u001b[0m\u001b[0m\n\u001b[1;32m---> 45\u001b[1;33m             \u001b[0mgbmr2\u001b[0m\u001b[1;33m.\u001b[0m\u001b[0mfit\u001b[0m\u001b[1;33m(\u001b[0m\u001b[0mX_train\u001b[0m\u001b[1;33m,\u001b[0m \u001b[0my_train\u001b[0m\u001b[1;33m,\u001b[0m \u001b[0mtest_data\u001b[0m \u001b[1;33m=\u001b[0m \u001b[1;33m[\u001b[0m\u001b[1;33m(\u001b[0m\u001b[0mX_val\u001b[0m\u001b[1;33m,\u001b[0m \u001b[0my_val\u001b[0m\u001b[1;33m)\u001b[0m\u001b[1;33m]\u001b[0m\u001b[1;33m)\u001b[0m\u001b[1;33m\u001b[0m\u001b[0m\n\u001b[0m\u001b[0;32m     46\u001b[0m             \u001b[0mpreds\u001b[0m \u001b[1;33m=\u001b[0m \u001b[0mgbmr2\u001b[0m\u001b[1;33m.\u001b[0m\u001b[0mpredict\u001b[0m\u001b[1;33m(\u001b[0m\u001b[0mX_val\u001b[0m\u001b[1;33m)\u001b[0m\u001b[1;33m\u001b[0m\u001b[0m\n\u001b[0;32m     47\u001b[0m \u001b[1;33m\u001b[0m\u001b[0m\n",
      "\u001b[1;32m/home/w/anaconda2/envs/idp2/lib/python2.7/site-packages/pylightgbm/models.pyc\u001b[0m in \u001b[0;36mfit\u001b[1;34m(self, X, y, test_data, init_scores)\u001b[0m\n\u001b[0;32m    136\u001b[0m \u001b[1;33m\u001b[0m\u001b[0m\n\u001b[0;32m    137\u001b[0m         \u001b[1;32mwith\u001b[0m \u001b[0mprocess\u001b[0m\u001b[1;33m.\u001b[0m\u001b[0mstdout\u001b[0m\u001b[1;33m:\u001b[0m\u001b[1;33m\u001b[0m\u001b[0m\n\u001b[1;32m--> 138\u001b[1;33m             \u001b[1;32mfor\u001b[0m \u001b[0mline\u001b[0m \u001b[1;32min\u001b[0m \u001b[0miter\u001b[0m\u001b[1;33m(\u001b[0m\u001b[0mprocess\u001b[0m\u001b[1;33m.\u001b[0m\u001b[0mstdout\u001b[0m\u001b[1;33m.\u001b[0m\u001b[0mreadline\u001b[0m\u001b[1;33m,\u001b[0m \u001b[1;34mb''\u001b[0m\u001b[1;33m)\u001b[0m\u001b[1;33m:\u001b[0m\u001b[1;33m\u001b[0m\u001b[0m\n\u001b[0m\u001b[0;32m    139\u001b[0m                 \u001b[1;32mprint\u001b[0m\u001b[1;33m(\u001b[0m\u001b[0mline\u001b[0m\u001b[1;33m.\u001b[0m\u001b[0mstrip\u001b[0m\u001b[1;33m(\u001b[0m\u001b[1;33m)\u001b[0m\u001b[1;33m.\u001b[0m\u001b[0mdecode\u001b[0m\u001b[1;33m(\u001b[0m\u001b[1;34m'utf-8'\u001b[0m\u001b[1;33m)\u001b[0m\u001b[1;33m)\u001b[0m \u001b[1;32mif\u001b[0m \u001b[0mself\u001b[0m\u001b[1;33m.\u001b[0m\u001b[0mverbose\u001b[0m \u001b[1;32melse\u001b[0m \u001b[0mNone\u001b[0m\u001b[1;33m\u001b[0m\u001b[0m\n\u001b[0;32m    140\u001b[0m         \u001b[1;31m# wait for the subprocess to exit\u001b[0m\u001b[1;33m\u001b[0m\u001b[1;33m\u001b[0m\u001b[0m\n",
      "\u001b[1;31mKeyboardInterrupt\u001b[0m: "
     ]
    }
   ],
   "source": [
    "kf = KFold(y_train1.shape[0], n_folds = 5, shuffle = True, random_state = 111)\n",
    "\n",
    "ntrain = y_train1.shape[0]\n",
    "num_iter = 10\n",
    "init_points = 10\n",
    "\n",
    "gbmrBO = BayesianOptimization(gbmr_foldeval, \n",
    "                              {\n",
    "                                'num_leaves': (100, 200),\n",
    "                                'min_data_in_leaf': (2, 100),\n",
    "                                'max_depth': (5, 15),\n",
    "                                'feature_fraction': (0.2, 0.9),\n",
    "                                'bagging_fraction': (0.7, 1),\n",
    "                              }\n",
    "                             )\n",
    "\n",
    "gbmrBO.maximize(init_points=init_points, n_iter=num_iter)\n",
    "\n",
    "print('Final Results')\n",
    "print('LightGBM: %f' % gbmrBO.res['max']['max_val'])"
   ]
  },
  {
   "cell_type": "code",
   "execution_count": null,
   "metadata": {
    "collapsed": true,
    "deletable": true,
    "editable": true
   },
   "outputs": [],
   "source": [
    "\n",
    "def output(name_train, name_test, files_train, files_test):\n",
    "    \n",
    "    train_preds = pd.DataFrame(np.concatenate(files_train, axis = 1))\n",
    "    test_preds = pd.DataFrame(np.concatenate(files_test, axis = 1))\n",
    "    \n",
    "    train_preds.to_csv('Good_preds/XGB_LGBM/{}.csv'.format(name_train), index = False)\n",
    "    test_preds.to_csv('Good_preds/XGB_LGBM/{}.csv'.format(name_test), index = False)\n",
    "                      \n",
    "    return\n"
   ]
  },
  {
   "cell_type": "code",
   "execution_count": null,
   "metadata": {
    "collapsed": true,
    "deletable": true,
    "editable": true
   },
   "outputs": [],
   "source": [
    "ids = pd.read_csv('../../test.csv')['id']\n",
    "submission_file = \"{}/sample_submission.csv\".format(directory)\n",
    "\n",
    "submission = pd.read_csv(submission_file)\n",
    "submission.iloc[:, 1] = xgb_te11\n",
    "submission.to_csv('Good_preds/XGBL2_stack_loss+1_4.12.csv', index = False)"
   ]
  }
 ],
 "metadata": {
  "kernelspec": {
   "display_name": "Python 3",
   "language": "python",
   "name": "python3"
  },
  "language_info": {
   "codemirror_mode": {
    "name": "ipython",
    "version": 3
   },
   "file_extension": ".py",
   "mimetype": "text/x-python",
   "name": "python",
   "nbconvert_exporter": "python",
   "pygments_lexer": "ipython3",
   "version": "3.5.2"
  }
 },
 "nbformat": 4,
 "nbformat_minor": 1
}
